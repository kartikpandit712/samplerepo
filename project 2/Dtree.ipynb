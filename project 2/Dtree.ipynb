{
 "cells": [
  {
   "cell_type": "code",
   "execution_count": 1,
   "id": "7e976396",
   "metadata": {},
   "outputs": [
    {
     "name": "stdout",
     "output_type": "stream",
     "text": [
      "     Age Sex      BP Cholesterol  Na_to_K   Drug\n",
      "0     23   F    HIGH        HIGH   25.355  drugY\n",
      "1     47   M     LOW        HIGH   13.093  drugC\n",
      "2     47   M     LOW        HIGH   10.114  drugC\n",
      "3     28   F  NORMAL        HIGH    7.798  drugX\n",
      "4     61   F     LOW        HIGH   18.043  drugY\n",
      "..   ...  ..     ...         ...      ...    ...\n",
      "195   56   F     LOW        HIGH   11.567  drugC\n",
      "196   16   M     LOW        HIGH   12.006  drugC\n",
      "197   52   M  NORMAL        HIGH    9.894  drugX\n",
      "198   23   M  NORMAL      NORMAL   14.020  drugX\n",
      "199   40   F     LOW      NORMAL   11.349  drugX\n",
      "\n",
      "[200 rows x 6 columns]\n"
     ]
    }
   ],
   "source": [
    "import pandas as pd\n",
    "from sklearn import tree\n",
    "from sklearn.tree import DecisionTreeClassifier\n",
    "\n",
    "df=pd.read_csv(\"/home/asifshahapurkar/Desktop/PYTHON/drug200.csv\")\n",
    "print(df)"
   ]
  },
  {
   "cell_type": "code",
   "execution_count": 2,
   "id": "1b55c3c4",
   "metadata": {},
   "outputs": [
    {
     "name": "stdout",
     "output_type": "stream",
     "text": [
      "   Age  Sex      BP Cholesterol  Na_to_K   Drug\n",
      "0   23    0    HIGH        HIGH   25.355  drugY\n",
      "1   47    1     LOW        HIGH   13.093  drugC\n",
      "2   47    1     LOW        HIGH   10.114  drugC\n",
      "3   28    0  NORMAL        HIGH    7.798  drugX\n",
      "4   61    0     LOW        HIGH   18.043  drugY\n"
     ]
    }
   ],
   "source": [
    "sm={'F':0,'M':1}\n",
    "df['Sex']=df['Sex'].map(sm)\n",
    "print(df.head())\n"
   ]
  },
  {
   "cell_type": "code",
   "execution_count": 3,
   "id": "fbf4aaa2",
   "metadata": {},
   "outputs": [
    {
     "name": "stdout",
     "output_type": "stream",
     "text": [
      "   Age  Sex  BP Cholesterol  Na_to_K   Drug\n",
      "0   23    0   1        HIGH   25.355  drugY\n",
      "1   47    1   2        HIGH   13.093  drugC\n",
      "2   47    1   2        HIGH   10.114  drugC\n",
      "3   28    0   0        HIGH    7.798  drugX\n",
      "4   61    0   2        HIGH   18.043  drugY\n"
     ]
    }
   ],
   "source": [
    "bpm={'HIGH':1,'NORMAL':0,'LOW':2}\n",
    "df['BP']=df['BP'].map(bpm)\n",
    "print(df.head())"
   ]
  },
  {
   "cell_type": "code",
   "execution_count": 4,
   "id": "af971d69",
   "metadata": {},
   "outputs": [
    {
     "name": "stdout",
     "output_type": "stream",
     "text": [
      "   Age  Sex  BP  Cholesterol  Na_to_K   Drug\n",
      "0   23    0   1            1   25.355  drugY\n",
      "1   47    1   2            1   13.093  drugC\n",
      "2   47    1   2            1   10.114  drugC\n",
      "3   28    0   0            1    7.798  drugX\n",
      "4   61    0   2            1   18.043  drugY\n"
     ]
    }
   ],
   "source": [
    "cm={'HIGH':1,'NORMAL':0}\n",
    "df['Cholesterol']=df['Cholesterol'].map(cm)\n",
    "print(df.head())"
   ]
  },
  {
   "cell_type": "code",
   "execution_count": 5,
   "id": "d4c797ad",
   "metadata": {},
   "outputs": [
    {
     "name": "stdout",
     "output_type": "stream",
     "text": [
      "   Age  Sex  BP  Cholesterol  Na_to_K  Drug\n",
      "0   23    0   1            1   25.355     5\n",
      "1   47    1   2            1   13.093     3\n",
      "2   47    1   2            1   10.114     3\n",
      "3   28    0   0            1    7.798     4\n",
      "4   61    0   2            1   18.043     5\n"
     ]
    }
   ],
   "source": [
    "dm={'drugA':1,'drugB':2,'drugC':3,'drugX':4,'drugY':5}\n",
    "df['Drug']=df['Drug'].map(dm)\n",
    "print(df.head())"
   ]
  },
  {
   "cell_type": "code",
   "execution_count": 6,
   "id": "f9edb19b",
   "metadata": {},
   "outputs": [
    {
     "name": "stdout",
     "output_type": "stream",
     "text": [
      "     Age  Sex  BP  Cholesterol  Na_to_K\n",
      "0     23    0   1            1   25.355\n",
      "1     47    1   2            1   13.093\n",
      "2     47    1   2            1   10.114\n",
      "3     28    0   0            1    7.798\n",
      "4     61    0   2            1   18.043\n",
      "..   ...  ...  ..          ...      ...\n",
      "195   56    0   2            1   11.567\n",
      "196   16    1   2            1   12.006\n",
      "197   52    1   0            1    9.894\n",
      "198   23    1   0            0   14.020\n",
      "199   40    0   2            0   11.349\n",
      "\n",
      "[200 rows x 5 columns]\n",
      "0      5\n",
      "1      3\n",
      "2      3\n",
      "3      4\n",
      "4      5\n",
      "      ..\n",
      "195    3\n",
      "196    3\n",
      "197    4\n",
      "198    4\n",
      "199    4\n",
      "Name: Drug, Length: 200, dtype: int64\n"
     ]
    }
   ],
   "source": [
    "features=['Age','Sex','BP','Cholesterol','Na_to_K']\n",
    "x=df[features]\n",
    "y=df['Drug']\n",
    "print(x)\n",
    "print(y)"
   ]
  },
  {
   "cell_type": "code",
   "execution_count": 7,
   "id": "9919a6ca",
   "metadata": {},
   "outputs": [
    {
     "name": "stdout",
     "output_type": "stream",
     "text": [
      "[5]\n"
     ]
    },
    {
     "name": "stderr",
     "output_type": "stream",
     "text": [
      "/home/asifshahapurkar/.local/lib/python3.8/site-packages/sklearn/base.py:441: UserWarning: X does not have valid feature names, but DecisionTreeClassifier was fitted with feature names\n",
      "  warnings.warn(\n"
     ]
    }
   ],
   "source": [
    "dtree=DecisionTreeClassifier()\n",
    "dtree=dtree.fit(x,y)\n",
    "result=dtree.predict([[23,0,1,1,25.355]])\n",
    "print(result)"
   ]
  },
  {
   "cell_type": "code",
   "execution_count": 11,
   "id": "ac930d1a",
   "metadata": {},
   "outputs": [
    {
     "name": "stdout",
     "output_type": "stream",
     "text": [
      "[3]\n"
     ]
    },
    {
     "name": "stderr",
     "output_type": "stream",
     "text": [
      "/home/asifshahapurkar/.local/lib/python3.8/site-packages/sklearn/base.py:441: UserWarning: X does not have valid feature names, but DecisionTreeClassifier was fitted with feature names\n",
      "  warnings.warn(\n"
     ]
    }
   ],
   "source": [
    "result=dtree.predict([[47,1,2,1,10.114]])\n",
    "print(result)"
   ]
  },
  {
   "cell_type": "code",
   "execution_count": 12,
   "id": "61928017",
   "metadata": {},
   "outputs": [
    {
     "name": "stderr",
     "output_type": "stream",
     "text": [
      "/home/asifshahapurkar/.local/lib/python3.8/site-packages/sklearn/base.py:441: UserWarning: X does not have valid feature names, but DecisionTreeClassifier was fitted with feature names\n",
      "  warnings.warn(\n"
     ]
    },
    {
     "data": {
      "text/plain": [
       "array([1])"
      ]
     },
     "execution_count": 12,
     "metadata": {},
     "output_type": "execute_result"
    }
   ],
   "source": [
    "result=dtree.predict([[43,1,1,1,13.972]])\n",
    "result"
   ]
  },
  {
   "cell_type": "code",
   "execution_count": null,
   "id": "b9957ad1",
   "metadata": {},
   "outputs": [],
   "source": []
  }
 ],
 "metadata": {
  "kernelspec": {
   "display_name": "Python 3 (ipykernel)",
   "language": "python",
   "name": "python3"
  },
  "language_info": {
   "codemirror_mode": {
    "name": "ipython",
    "version": 3
   },
   "file_extension": ".py",
   "mimetype": "text/x-python",
   "name": "python",
   "nbconvert_exporter": "python",
   "pygments_lexer": "ipython3",
   "version": "3.8.10"
  }
 },
 "nbformat": 4,
 "nbformat_minor": 5
}
